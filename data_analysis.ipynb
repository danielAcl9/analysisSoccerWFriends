{
 "cells": [
  {
   "cell_type": "code",
   "execution_count": 22,
   "metadata": {},
   "outputs": [
    {
     "name": "stdout",
     "output_type": "stream",
     "text": [
      "Requirement already satisfied: statsmodels in c:\\users\\user\\appdata\\local\\packages\\pythonsoftwarefoundation.python.3.11_qbz5n2kfra8p0\\localcache\\local-packages\\python311\\site-packages (0.14.2)\n",
      "Requirement already satisfied: numpy>=1.22.3 in c:\\users\\user\\appdata\\local\\packages\\pythonsoftwarefoundation.python.3.11_qbz5n2kfra8p0\\localcache\\local-packages\\python311\\site-packages (from statsmodels) (1.24.3)\n",
      "Requirement already satisfied: scipy!=1.9.2,>=1.8 in c:\\users\\user\\appdata\\local\\packages\\pythonsoftwarefoundation.python.3.11_qbz5n2kfra8p0\\localcache\\local-packages\\python311\\site-packages (from statsmodels) (1.11.2)\n",
      "Requirement already satisfied: pandas!=2.1.0,>=1.4 in c:\\users\\user\\appdata\\local\\packages\\pythonsoftwarefoundation.python.3.11_qbz5n2kfra8p0\\localcache\\local-packages\\python311\\site-packages (from statsmodels) (2.0.3)\n",
      "Requirement already satisfied: patsy>=0.5.6 in c:\\users\\user\\appdata\\local\\packages\\pythonsoftwarefoundation.python.3.11_qbz5n2kfra8p0\\localcache\\local-packages\\python311\\site-packages (from statsmodels) (0.5.6)\n",
      "Requirement already satisfied: packaging>=21.3 in c:\\users\\user\\appdata\\local\\packages\\pythonsoftwarefoundation.python.3.11_qbz5n2kfra8p0\\localcache\\local-packages\\python311\\site-packages (from statsmodels) (23.1)\n",
      "Requirement already satisfied: python-dateutil>=2.8.2 in c:\\users\\user\\appdata\\local\\packages\\pythonsoftwarefoundation.python.3.11_qbz5n2kfra8p0\\localcache\\local-packages\\python311\\site-packages (from pandas!=2.1.0,>=1.4->statsmodels) (2.8.2)\n",
      "Requirement already satisfied: pytz>=2020.1 in c:\\users\\user\\appdata\\local\\packages\\pythonsoftwarefoundation.python.3.11_qbz5n2kfra8p0\\localcache\\local-packages\\python311\\site-packages (from pandas!=2.1.0,>=1.4->statsmodels) (2023.3)\n",
      "Requirement already satisfied: tzdata>=2022.1 in c:\\users\\user\\appdata\\local\\packages\\pythonsoftwarefoundation.python.3.11_qbz5n2kfra8p0\\localcache\\local-packages\\python311\\site-packages (from pandas!=2.1.0,>=1.4->statsmodels) (2023.3)\n",
      "Requirement already satisfied: six in c:\\users\\user\\appdata\\local\\packages\\pythonsoftwarefoundation.python.3.11_qbz5n2kfra8p0\\localcache\\local-packages\\python311\\site-packages (from patsy>=0.5.6->statsmodels) (1.16.0)\n"
     ]
    }
   ],
   "source": [
    "!pip install statsmodels"
   ]
  },
  {
   "cell_type": "code",
   "execution_count": 23,
   "metadata": {},
   "outputs": [],
   "source": [
    "import pandas as pd\n",
    "import numpy as np\n",
    "from scipy import stats\n",
    "\n",
    "import matplotlib.pyplot as plt"
   ]
  },
  {
   "cell_type": "code",
   "execution_count": 24,
   "metadata": {},
   "outputs": [],
   "source": [
    "df_matches = pd.read_csv(\"final_match_table.csv\")\n",
    "df_players = pd.read_csv(\"final_player_table.csv\")"
   ]
  },
  {
   "cell_type": "code",
   "execution_count": 25,
   "metadata": {},
   "outputs": [
    {
     "data": {
      "text/html": [
       "<div>\n",
       "<style scoped>\n",
       "    .dataframe tbody tr th:only-of-type {\n",
       "        vertical-align: middle;\n",
       "    }\n",
       "\n",
       "    .dataframe tbody tr th {\n",
       "        vertical-align: top;\n",
       "    }\n",
       "\n",
       "    .dataframe thead th {\n",
       "        text-align: right;\n",
       "    }\n",
       "</style>\n",
       "<table border=\"1\" class=\"dataframe\">\n",
       "  <thead>\n",
       "    <tr style=\"text-align: right;\">\n",
       "      <th></th>\n",
       "      <th>goals</th>\n",
       "      <th>assists</th>\n",
       "      <th>in</th>\n",
       "    </tr>\n",
       "  </thead>\n",
       "  <tbody>\n",
       "    <tr>\n",
       "      <th>count</th>\n",
       "      <td>46.000000</td>\n",
       "      <td>46.000000</td>\n",
       "      <td>46.000000</td>\n",
       "    </tr>\n",
       "    <tr>\n",
       "      <th>mean</th>\n",
       "      <td>33.891304</td>\n",
       "      <td>19.652174</td>\n",
       "      <td>86086.956522</td>\n",
       "    </tr>\n",
       "    <tr>\n",
       "      <th>std</th>\n",
       "      <td>15.060217</td>\n",
       "      <td>13.154158</td>\n",
       "      <td>14526.337899</td>\n",
       "    </tr>\n",
       "    <tr>\n",
       "      <th>min</th>\n",
       "      <td>6.000000</td>\n",
       "      <td>1.000000</td>\n",
       "      <td>80000.000000</td>\n",
       "    </tr>\n",
       "    <tr>\n",
       "      <th>25%</th>\n",
       "      <td>20.750000</td>\n",
       "      <td>10.000000</td>\n",
       "      <td>80000.000000</td>\n",
       "    </tr>\n",
       "    <tr>\n",
       "      <th>50%</th>\n",
       "      <td>34.000000</td>\n",
       "      <td>17.500000</td>\n",
       "      <td>80000.000000</td>\n",
       "    </tr>\n",
       "    <tr>\n",
       "      <th>75%</th>\n",
       "      <td>46.750000</td>\n",
       "      <td>28.000000</td>\n",
       "      <td>80000.000000</td>\n",
       "    </tr>\n",
       "    <tr>\n",
       "      <th>max</th>\n",
       "      <td>62.000000</td>\n",
       "      <td>54.000000</td>\n",
       "      <td>120000.000000</td>\n",
       "    </tr>\n",
       "  </tbody>\n",
       "</table>\n",
       "</div>"
      ],
      "text/plain": [
       "           goals    assists             in\n",
       "count  46.000000  46.000000      46.000000\n",
       "mean   33.891304  19.652174   86086.956522\n",
       "std    15.060217  13.154158   14526.337899\n",
       "min     6.000000   1.000000   80000.000000\n",
       "25%    20.750000  10.000000   80000.000000\n",
       "50%    34.000000  17.500000   80000.000000\n",
       "75%    46.750000  28.000000   80000.000000\n",
       "max    62.000000  54.000000  120000.000000"
      ]
     },
     "execution_count": 25,
     "metadata": {},
     "output_type": "execute_result"
    }
   ],
   "source": [
    "df_matches.describe()"
   ]
  },
  {
   "cell_type": "code",
   "execution_count": 26,
   "metadata": {},
   "outputs": [
    {
     "data": {
      "text/html": [
       "<div>\n",
       "<style scoped>\n",
       "    .dataframe tbody tr th:only-of-type {\n",
       "        vertical-align: middle;\n",
       "    }\n",
       "\n",
       "    .dataframe tbody tr th {\n",
       "        vertical-align: top;\n",
       "    }\n",
       "\n",
       "    .dataframe thead th {\n",
       "        text-align: right;\n",
       "    }\n",
       "</style>\n",
       "<table border=\"1\" class=\"dataframe\">\n",
       "  <thead>\n",
       "    <tr style=\"text-align: right;\">\n",
       "      <th></th>\n",
       "      <th>goals</th>\n",
       "      <th>assists</th>\n",
       "      <th>participation</th>\n",
       "      <th>mvp</th>\n",
       "      <th>points</th>\n",
       "      <th>efficiency</th>\n",
       "    </tr>\n",
       "  </thead>\n",
       "  <tbody>\n",
       "    <tr>\n",
       "      <th>count</th>\n",
       "      <td>11.000000</td>\n",
       "      <td>11.000000</td>\n",
       "      <td>11.000000</td>\n",
       "      <td>11.000000</td>\n",
       "      <td>11.000000</td>\n",
       "      <td>11.000000</td>\n",
       "    </tr>\n",
       "    <tr>\n",
       "      <th>mean</th>\n",
       "      <td>141.727273</td>\n",
       "      <td>82.272727</td>\n",
       "      <td>224.000000</td>\n",
       "      <td>4.181818</td>\n",
       "      <td>378.272727</td>\n",
       "      <td>8.222727</td>\n",
       "    </tr>\n",
       "    <tr>\n",
       "      <th>std</th>\n",
       "      <td>96.993908</td>\n",
       "      <td>52.560614</td>\n",
       "      <td>99.829855</td>\n",
       "      <td>1.990888</td>\n",
       "      <td>191.621549</td>\n",
       "      <td>4.165499</td>\n",
       "    </tr>\n",
       "    <tr>\n",
       "      <th>min</th>\n",
       "      <td>26.000000</td>\n",
       "      <td>7.000000</td>\n",
       "      <td>49.000000</td>\n",
       "      <td>1.000000</td>\n",
       "      <td>90.000000</td>\n",
       "      <td>1.960000</td>\n",
       "    </tr>\n",
       "    <tr>\n",
       "      <th>25%</th>\n",
       "      <td>67.000000</td>\n",
       "      <td>47.000000</td>\n",
       "      <td>157.500000</td>\n",
       "      <td>3.000000</td>\n",
       "      <td>226.500000</td>\n",
       "      <td>4.925000</td>\n",
       "    </tr>\n",
       "    <tr>\n",
       "      <th>50%</th>\n",
       "      <td>109.000000</td>\n",
       "      <td>77.000000</td>\n",
       "      <td>221.000000</td>\n",
       "      <td>4.000000</td>\n",
       "      <td>340.000000</td>\n",
       "      <td>7.390000</td>\n",
       "    </tr>\n",
       "    <tr>\n",
       "      <th>75%</th>\n",
       "      <td>219.000000</td>\n",
       "      <td>117.500000</td>\n",
       "      <td>292.000000</td>\n",
       "      <td>5.500000</td>\n",
       "      <td>531.000000</td>\n",
       "      <td>11.545000</td>\n",
       "    </tr>\n",
       "    <tr>\n",
       "      <th>max</th>\n",
       "      <td>299.000000</td>\n",
       "      <td>164.000000</td>\n",
       "      <td>376.000000</td>\n",
       "      <td>8.000000</td>\n",
       "      <td>684.000000</td>\n",
       "      <td>14.870000</td>\n",
       "    </tr>\n",
       "  </tbody>\n",
       "</table>\n",
       "</div>"
      ],
      "text/plain": [
       "            goals     assists  participation        mvp      points  \\\n",
       "count   11.000000   11.000000      11.000000  11.000000   11.000000   \n",
       "mean   141.727273   82.272727     224.000000   4.181818  378.272727   \n",
       "std     96.993908   52.560614      99.829855   1.990888  191.621549   \n",
       "min     26.000000    7.000000      49.000000   1.000000   90.000000   \n",
       "25%     67.000000   47.000000     157.500000   3.000000  226.500000   \n",
       "50%    109.000000   77.000000     221.000000   4.000000  340.000000   \n",
       "75%    219.000000  117.500000     292.000000   5.500000  531.000000   \n",
       "max    299.000000  164.000000     376.000000   8.000000  684.000000   \n",
       "\n",
       "       efficiency  \n",
       "count   11.000000  \n",
       "mean     8.222727  \n",
       "std      4.165499  \n",
       "min      1.960000  \n",
       "25%      4.925000  \n",
       "50%      7.390000  \n",
       "75%     11.545000  \n",
       "max     14.870000  "
      ]
     },
     "execution_count": 26,
     "metadata": {},
     "output_type": "execute_result"
    }
   ],
   "source": [
    "df_players.describe()"
   ]
  },
  {
   "cell_type": "code",
   "execution_count": 27,
   "metadata": {},
   "outputs": [
    {
     "data": {
      "image/png": "[encoded data removed]",
      "text/plain": [
       "<Figure size 640x480 with 1 Axes>"
      ]
     },
     "metadata": {},
     "output_type": "display_data"
    }
   ],
   "source": [
    "# Histogram of goals per match\n",
    "plt.hist(df_matches['goals'], bins=10, color='skyblue', edgecolor='black')\n",
    "plt.xlabel('Goals')\n",
    "plt.ylabel('Frequency')\n",
    "plt.title('Histogram of Goals per Match')\n",
    "plt.show()\n"
   ]
  },
  {
   "cell_type": "code",
   "execution_count": 28,
   "metadata": {},
   "outputs": [
    {
     "data": {
      "image/png": "[encoded data removed]",
      "text/plain": [
       "<Figure size 640x480 with 1 Axes>"
      ]
     },
     "metadata": {},
     "output_type": "display_data"
    }
   ],
   "source": [
    "# Barchart of goals per player\n",
    "participacion = df_players.sort_values(by='participation', ascending=False)\n",
    "participacion.plot(x='player', y='participation', kind='bar')\n",
    "plt.xlabel('Player')\n",
    "plt.ylabel('Total Participation')\n",
    "plt.title('Total Participation per Player')\n",
    "plt.xticks(rotation=45)\n",
    "plt.show()"
   ]
  },
  {
   "cell_type": "code",
   "execution_count": 32,
   "metadata": {},
   "outputs": [
    {
     "name": "stdout",
     "output_type": "stream",
     "text": [
      "Measures of central tendency for assists:\n",
      "Mean: 19.65\n",
      "Median: 17.50\n",
      "Mode: 12.00\n",
      "\n",
      "Standard deviation: 13.15\n",
      "Variance: 173.03\n",
      "\n",
      "Dispersion measurement:\n",
      "Range: 53.00\n",
      "\n",
      "Normality test (Shapiro-Wilk):\n",
      "Test statistics: 0.94\n",
      "P Value: 0.03\n",
      "Is the data normal?: False\n"
     ]
    }
   ],
   "source": [
    "chosen_column = df_matches['assists']\n",
    "\n",
    "mean = chosen_column.mean()\n",
    "median = chosen_column.median()\n",
    "mode = chosen_column.mode()[0]  \n",
    "\n",
    "# Standard deviation and variance\n",
    "std_dev = chosen_column.std()\n",
    "variance = chosen_column.var()\n",
    "\n",
    "# Dispersion measure\n",
    "range = chosen_column.max() - chosen_column.min()\n",
    "\n",
    "# Normality test (Shapiro-Wilk)\n",
    "norm_test, p_value = stats.shapiro(chosen_column)\n",
    "is_normal = p_value > 0.05  # Si el valor p es mayor que 0.05, se considera normal\n",
    "\n",
    "# Imprimir los resultados\n",
    "print(f\"Measures of central tendency for {chosen_column.name}:\")\n",
    "print(f\"Mean: {mean:.2f}\")\n",
    "print(f\"Median: {median:.2f}\")\n",
    "print(f\"Mode: {mode:.2f}\")\n",
    "print(f\"\\nStandard deviation: {std_dev:.2f}\")\n",
    "print(f\"Variance: {variance:.2f}\")\n",
    "print(\"\\nDispersion measurement:\")\n",
    "print(f\"Range: {range:.2f}\")\n",
    "print(\"\\nNormality test (Shapiro-Wilk):\")\n",
    "print(f\"Test statistics: {norm_test:.2f}\")\n",
    "print(f\"P Value: {p_value:.2f}\")\n",
    "print(\"Is the data normal?:\", is_normal)\n"
   ]
  }
 ],
 "metadata": {
  "kernelspec": {
   "display_name": "Python 3",
   "language": "python",
   "name": "python3"
  },
  "language_info": {
   "codemirror_mode": {
    "name": "ipython",
    "version": 3
   },
   "file_extension": ".py",
   "mimetype": "text/x-python",
   "name": "python",
   "nbconvert_exporter": "python",
   "pygments_lexer": "ipython3",
   "version": "3.11.9"
  }
 },
 "nbformat": 4,
 "nbformat_minor": 2
}
