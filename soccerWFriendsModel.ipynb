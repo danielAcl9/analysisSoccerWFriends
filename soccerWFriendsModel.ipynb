{
 "cells": [
  {
   "cell_type": "code",
   "execution_count": 61,
   "metadata": {},
   "outputs": [],
   "source": [
    "import pandas as pd\n",
    "import numpy as np"
   ]
  },
  {
   "cell_type": "code",
   "execution_count": 62,
   "metadata": {},
   "outputs": [],
   "source": [
    "df_matches = pd.read_csv(\"match_table.csv\")\n",
    "df_players = pd.read_csv(\"player_table.csv\")"
   ]
  },
  {
   "cell_type": "markdown",
   "metadata": {},
   "source": [
    "### Matches Dataframe"
   ]
  },
  {
   "cell_type": "code",
   "execution_count": 63,
   "metadata": {},
   "outputs": [],
   "source": [
    "#Assign a random venue to the matches\n",
    "venue_options = ['Cancha Gool de Oro', 'Cancha UIS', 'Cancha UNAB', 'Cancha UPB', 'Recrear XYZ']\n",
    "df_matches['venue'] = np.random.choice(venue_options, size=len(df_matches))"
   ]
  },
  {
   "cell_type": "code",
   "execution_count": 64,
   "metadata": {},
   "outputs": [],
   "source": [
    "#Assing a random number of goals to each match\n",
    "rand_goal1 = np.random.randint(1, 35, size=len(df_matches))\n",
    "rand_goal2 = np.random.randint(1, 35, size=len(df_matches))\n",
    "\n",
    "result = [f\"{a} - {b}\" for a, b in zip(rand_goal1, rand_goal2)]\n",
    "\n",
    "df_matches['final_result'] = result"
   ]
  },
  {
   "cell_type": "code",
   "execution_count": 65,
   "metadata": {},
   "outputs": [],
   "source": [
    "# Assign a random MVP to each match\n",
    "players = df_players['player'].values\n",
    "df_matches['mvp'] = np.random.choice(players, size=len(df_matches))"
   ]
  },
  {
   "cell_type": "code",
   "execution_count": 66,
   "metadata": {},
   "outputs": [],
   "source": [
    "# Assign the values for total goals and assists each match\n",
    "df_matches['goals'] = rand_goal1 + rand_goal2\n",
    "df_matches['assists'] = np.random.randint(df_matches['goals']*.20, df_matches['goals'], size=len(df_matches))"
   ]
  },
  {
   "cell_type": "code",
   "execution_count": 67,
   "metadata": {},
   "outputs": [],
   "source": [
    "# Set fixed data\n",
    "old1 = {'date': '25 marzo', 'venue': 'Cancha Gool de Oro', 'final_result': '8-10', 'mvp': 'J. Ramirez', 'goals': 18, 'assists': 12, 'in': 80000}\n",
    "old2 = {'date': '14 abril', 'venue': 'Cancha Gool de Oro', 'final_result': '15-13', 'mvp': 'L. Machado', 'goals': 28, 'assists': 26, 'in': 80000}\n",
    "\n",
    "df_matches.loc[0] = old1\n",
    "df_matches.loc[1] = old2"
   ]
  }
 ],
 "metadata": {
  "kernelspec": {
   "display_name": "Python 3",
   "language": "python",
   "name": "python3"
  },
  "language_info": {
   "codemirror_mode": {
    "name": "ipython",
    "version": 3
   },
   "file_extension": ".py",
   "mimetype": "text/x-python",
   "name": "python",
   "nbconvert_exporter": "python",
   "pygments_lexer": "ipython3",
   "version": "3.11.9"
  }
 },
 "nbformat": 4,
 "nbformat_minor": 2
}
