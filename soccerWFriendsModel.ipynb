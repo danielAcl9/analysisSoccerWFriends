{
 "cells": [
  {
   "cell_type": "code",
   "execution_count": 237,
   "metadata": {},
   "outputs": [],
   "source": [
    "import pandas as pd\n",
    "import numpy as np"
   ]
  },
  {
   "cell_type": "code",
   "execution_count": 238,
   "metadata": {},
   "outputs": [],
   "source": [
    "df_matches = pd.read_csv(\"match_table.csv\")\n",
    "df_players = pd.read_csv(\"player_table.csv\")"
   ]
  },
  {
   "cell_type": "markdown",
   "metadata": {},
   "source": [
    "### Matches Dataframe"
   ]
  },
  {
   "cell_type": "code",
   "execution_count": 239,
   "metadata": {},
   "outputs": [],
   "source": [
    "#Assign a random venue to the matches\n",
    "venue_options = ['Cancha Gool de Oro', 'Cancha UIS', 'Cancha UNAB', 'Cancha UPB', 'Recrear XYZ']\n",
    "df_matches['venue'] = np.random.choice(venue_options, size=len(df_matches))"
   ]
  },
  {
   "cell_type": "code",
   "execution_count": 240,
   "metadata": {},
   "outputs": [],
   "source": [
    "#Assing a random number of goals to each match\n",
    "rand_goal1 = np.random.randint(1, 35, size=len(df_matches))\n",
    "rand_goal2 = np.random.randint(1, 35, size=len(df_matches))\n",
    "\n",
    "result = [f\"{a} - {b}\" for a, b in zip(rand_goal1, rand_goal2)]\n",
    "\n",
    "df_matches['final_result'] = result"
   ]
  },
  {
   "cell_type": "code",
   "execution_count": 241,
   "metadata": {},
   "outputs": [],
   "source": [
    "# Assign a random MVP to each match\n",
    "players = df_players['player'].values\n",
    "df_matches['mvp'] = np.random.choice(players, size=len(df_matches))"
   ]
  },
  {
   "cell_type": "code",
   "execution_count": 242,
   "metadata": {},
   "outputs": [],
   "source": [
    "# Assign the values for total goals and assists each match\n",
    "df_matches['goals'] = rand_goal1 + rand_goal2\n",
    "df_matches['assists'] = np.random.randint(df_matches['goals']*.20, df_matches['goals'], size=len(df_matches))"
   ]
  },
  {
   "cell_type": "code",
   "execution_count": 243,
   "metadata": {},
   "outputs": [],
   "source": [
    "# Set fixed data\n",
    "old1 = {'date': '25 marzo', 'venue': 'Cancha Gool de Oro', 'final_result': '8-10', 'mvp': 'J. Ramirez', 'goals': 18, 'assists': 12, 'in': 80000}\n",
    "old2 = {'date': '14 abril', 'venue': 'Cancha Gool de Oro', 'final_result': '15-13', 'mvp': 'L. Machado', 'goals': 28, 'assists': 26, 'in': 80000}\n",
    "\n",
    "df_matches.loc[0] = old1\n",
    "df_matches.loc[1] = old2"
   ]
  },
  {
   "cell_type": "markdown",
   "metadata": {},
   "source": [
    "### Players Dataframe"
   ]
  },
  {
   "cell_type": "code",
   "execution_count": 244,
   "metadata": {},
   "outputs": [
    {
     "name": "stdout",
     "output_type": "stream",
     "text": [
      "Total goals: 1493\n",
      "Total assists: 785\n"
     ]
    }
   ],
   "source": [
    "total_goals = df_matches['goals'].sum()\n",
    "total_assists = df_matches['assists'].sum()\n",
    "print(f\"Total goals: {total_goals}\")\n",
    "print(f\"Total assists: {total_assists}\")"
   ]
  },
  {
   "cell_type": "code",
   "execution_count": 245,
   "metadata": {},
   "outputs": [],
   "source": [
    "# Count all times the players have been MVP\n",
    "mvp_counts = df_matches['mvp'].value_counts()\n",
    "df_players['mvp'] = df_matches['mvp'].map(mvp_counts).fillna(0).astype(int)"
   ]
  },
  {
   "cell_type": "code",
   "execution_count": 246,
   "metadata": {},
   "outputs": [],
   "source": [
    "# Generate values that sum the total goals and assits\n",
    "player_goal = np.random.uniform(0, total_goals, df_players.shape[0])\n",
    "player_assists = np.random.uniform(0, total_assists, df_players.shape[0])\n",
    "\n",
    "# Adjust the values to sum the total goals\n",
    "player_goal_adj = np.round(player_goal / player_goal.sum() * total_goals)\n",
    "player_assist_adj = np.round(player_assists / player_assists.sum() * total_assists)"
   ]
  },
  {
   "cell_type": "code",
   "execution_count": 247,
   "metadata": {},
   "outputs": [
    {
     "data": {
      "text/html": [
       "<div>\n",
       "<style scoped>\n",
       "    .dataframe tbody tr th:only-of-type {\n",
       "        vertical-align: middle;\n",
       "    }\n",
       "\n",
       "    .dataframe tbody tr th {\n",
       "        vertical-align: top;\n",
       "    }\n",
       "\n",
       "    .dataframe thead th {\n",
       "        text-align: right;\n",
       "    }\n",
       "</style>\n",
       "<table border=\"1\" class=\"dataframe\">\n",
       "  <thead>\n",
       "    <tr style=\"text-align: right;\">\n",
       "      <th></th>\n",
       "      <th>player</th>\n",
       "      <th>goals</th>\n",
       "      <th>assists</th>\n",
       "      <th>participation</th>\n",
       "      <th>mvp</th>\n",
       "      <th>points</th>\n",
       "      <th>efficiency</th>\n",
       "    </tr>\n",
       "  </thead>\n",
       "  <tbody>\n",
       "    <tr>\n",
       "      <th>0</th>\n",
       "      <td>L. Machado</td>\n",
       "      <td>118.0</td>\n",
       "      <td>102.0</td>\n",
       "      <td>220.0</td>\n",
       "      <td>5</td>\n",
       "      <td>353.0</td>\n",
       "      <td>7.67</td>\n",
       "    </tr>\n",
       "    <tr>\n",
       "      <th>1</th>\n",
       "      <td>J. Ramirez</td>\n",
       "      <td>135.0</td>\n",
       "      <td>0.0</td>\n",
       "      <td>135.0</td>\n",
       "      <td>5</td>\n",
       "      <td>285.0</td>\n",
       "      <td>6.20</td>\n",
       "    </tr>\n",
       "    <tr>\n",
       "      <th>2</th>\n",
       "      <td>W. Velandia</td>\n",
       "      <td>146.0</td>\n",
       "      <td>30.0</td>\n",
       "      <td>176.0</td>\n",
       "      <td>3</td>\n",
       "      <td>331.0</td>\n",
       "      <td>7.20</td>\n",
       "    </tr>\n",
       "    <tr>\n",
       "      <th>3</th>\n",
       "      <td>J. Rozo</td>\n",
       "      <td>205.0</td>\n",
       "      <td>14.0</td>\n",
       "      <td>219.0</td>\n",
       "      <td>4</td>\n",
       "      <td>436.0</td>\n",
       "      <td>9.48</td>\n",
       "    </tr>\n",
       "    <tr>\n",
       "      <th>4</th>\n",
       "      <td>D. Plata</td>\n",
       "      <td>127.0</td>\n",
       "      <td>89.0</td>\n",
       "      <td>216.0</td>\n",
       "      <td>5</td>\n",
       "      <td>358.0</td>\n",
       "      <td>7.78</td>\n",
       "    </tr>\n",
       "    <tr>\n",
       "      <th>5</th>\n",
       "      <td>A. Granados</td>\n",
       "      <td>166.0</td>\n",
       "      <td>108.0</td>\n",
       "      <td>274.0</td>\n",
       "      <td>4</td>\n",
       "      <td>452.0</td>\n",
       "      <td>9.83</td>\n",
       "    </tr>\n",
       "    <tr>\n",
       "      <th>6</th>\n",
       "      <td>R. López</td>\n",
       "      <td>11.0</td>\n",
       "      <td>165.0</td>\n",
       "      <td>176.0</td>\n",
       "      <td>4</td>\n",
       "      <td>199.0</td>\n",
       "      <td>4.33</td>\n",
       "    </tr>\n",
       "    <tr>\n",
       "      <th>7</th>\n",
       "      <td>D. Amado</td>\n",
       "      <td>73.0</td>\n",
       "      <td>65.0</td>\n",
       "      <td>138.0</td>\n",
       "      <td>5</td>\n",
       "      <td>226.0</td>\n",
       "      <td>4.91</td>\n",
       "    </tr>\n",
       "    <tr>\n",
       "      <th>8</th>\n",
       "      <td>G. Ojeda</td>\n",
       "      <td>172.0</td>\n",
       "      <td>27.0</td>\n",
       "      <td>199.0</td>\n",
       "      <td>5</td>\n",
       "      <td>386.0</td>\n",
       "      <td>8.39</td>\n",
       "    </tr>\n",
       "    <tr>\n",
       "      <th>9</th>\n",
       "      <td>D. Tarazona</td>\n",
       "      <td>155.0</td>\n",
       "      <td>128.0</td>\n",
       "      <td>283.0</td>\n",
       "      <td>5</td>\n",
       "      <td>453.0</td>\n",
       "      <td>9.85</td>\n",
       "    </tr>\n",
       "    <tr>\n",
       "      <th>10</th>\n",
       "      <td>C. Durán</td>\n",
       "      <td>185.0</td>\n",
       "      <td>56.0</td>\n",
       "      <td>241.0</td>\n",
       "      <td>5</td>\n",
       "      <td>441.0</td>\n",
       "      <td>9.59</td>\n",
       "    </tr>\n",
       "  </tbody>\n",
       "</table>\n",
       "</div>"
      ],
      "text/plain": [
       "         player  goals  assists  participation  mvp  points  efficiency\n",
       "0    L. Machado  118.0    102.0          220.0    5   353.0        7.67\n",
       "1    J. Ramirez  135.0      0.0          135.0    5   285.0        6.20\n",
       "2   W. Velandia  146.0     30.0          176.0    3   331.0        7.20\n",
       "3       J. Rozo  205.0     14.0          219.0    4   436.0        9.48\n",
       "4      D. Plata  127.0     89.0          216.0    5   358.0        7.78\n",
       "5   A. Granados  166.0    108.0          274.0    4   452.0        9.83\n",
       "6      R. López   11.0    165.0          176.0    4   199.0        4.33\n",
       "7      D. Amado   73.0     65.0          138.0    5   226.0        4.91\n",
       "8      G. Ojeda  172.0     27.0          199.0    5   386.0        8.39\n",
       "9   D. Tarazona  155.0    128.0          283.0    5   453.0        9.85\n",
       "10     C. Durán  185.0     56.0          241.0    5   441.0        9.59"
      ]
     },
     "execution_count": 247,
     "metadata": {},
     "output_type": "execute_result"
    }
   ],
   "source": [
    "# Assign the values to the players\n",
    "df_players['goals'] = player_goal_adj\n",
    "df_players['assists'] = player_assist_adj\n",
    "df_players['participation'] = df_players['goals'] + df_players['assists']\n",
    "df_players['points'] = df_players['goals'] * 2 + df_players['assists'] + df_players['mvp'] * 3\n",
    "df_players['efficiency'] = np.round(df_players['points'] / len(df_matches), 2)\n",
    "\n",
    "df_players"
   ]
  }
 ],
 "metadata": {
  "kernelspec": {
   "display_name": "Python 3",
   "language": "python",
   "name": "python3"
  },
  "language_info": {
   "codemirror_mode": {
    "name": "ipython",
    "version": 3
   },
   "file_extension": ".py",
   "mimetype": "text/x-python",
   "name": "python",
   "nbconvert_exporter": "python",
   "pygments_lexer": "ipython3",
   "version": "3.11.9"
  }
 },
 "nbformat": 4,
 "nbformat_minor": 2
}
