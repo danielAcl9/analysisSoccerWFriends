{
 "cells": [
  {
   "cell_type": "code",
   "execution_count": 272,
   "metadata": {},
   "outputs": [],
   "source": [
    "import pandas as pd\n",
    "import numpy as np"
   ]
  },
  {
   "cell_type": "code",
   "execution_count": 273,
   "metadata": {},
   "outputs": [],
   "source": [
    "df_matches = pd.read_csv(\"match_table.csv\")\n",
    "df_players = pd.read_csv(\"player_table.csv\")"
   ]
  },
  {
   "cell_type": "markdown",
   "metadata": {},
   "source": [
    "### Matches Dataframe"
   ]
  },
  {
   "cell_type": "code",
   "execution_count": 274,
   "metadata": {},
   "outputs": [],
   "source": [
    "#Assign a random venue to the matches\n",
    "venue_options = ['Cancha Gool de Oro', 'Cancha UIS', 'Cancha UNAB', 'Cancha UPB', 'Recrear XYZ']\n",
    "df_matches['venue'] = np.random.choice(venue_options, size=len(df_matches))"
   ]
  },
  {
   "cell_type": "code",
   "execution_count": 275,
   "metadata": {},
   "outputs": [],
   "source": [
    "#Assing a random number of goals to each match\n",
    "rand_goal1 = np.random.randint(1, 35, size=len(df_matches))\n",
    "rand_goal2 = np.random.randint(1, 35, size=len(df_matches))\n",
    "\n",
    "result = [f\"{a} - {b}\" for a, b in zip(rand_goal1, rand_goal2)]\n",
    "\n",
    "df_matches['final_result'] = result"
   ]
  },
  {
   "cell_type": "code",
   "execution_count": 276,
   "metadata": {},
   "outputs": [],
   "source": [
    "# Assign a random MVP to each match\n",
    "players = df_players['player'].values\n",
    "df_matches['mvp'] = np.random.choice(players, size=len(df_matches))"
   ]
  },
  {
   "cell_type": "code",
   "execution_count": 277,
   "metadata": {},
   "outputs": [],
   "source": [
    "# Assign the values for total goals and assists each match\n",
    "df_matches['goals'] = rand_goal1 + rand_goal2\n",
    "df_matches['assists'] = np.random.randint(df_matches['goals']*.20, df_matches['goals'], size=len(df_matches))"
   ]
  },
  {
   "cell_type": "code",
   "execution_count": 278,
   "metadata": {},
   "outputs": [
    {
     "data": {
      "text/html": [
       "<div>\n",
       "<style scoped>\n",
       "    .dataframe tbody tr th:only-of-type {\n",
       "        vertical-align: middle;\n",
       "    }\n",
       "\n",
       "    .dataframe tbody tr th {\n",
       "        vertical-align: top;\n",
       "    }\n",
       "\n",
       "    .dataframe thead th {\n",
       "        text-align: right;\n",
       "    }\n",
       "</style>\n",
       "<table border=\"1\" class=\"dataframe\">\n",
       "  <thead>\n",
       "    <tr style=\"text-align: right;\">\n",
       "      <th></th>\n",
       "      <th>date</th>\n",
       "      <th>venue</th>\n",
       "      <th>final_result</th>\n",
       "      <th>mvp</th>\n",
       "      <th>goals</th>\n",
       "      <th>assists</th>\n",
       "      <th>in</th>\n",
       "    </tr>\n",
       "  </thead>\n",
       "  <tbody>\n",
       "    <tr>\n",
       "      <th>0</th>\n",
       "      <td>25 marzo</td>\n",
       "      <td>Cancha Gool de Oro</td>\n",
       "      <td>8-10</td>\n",
       "      <td>J. Ramirez</td>\n",
       "      <td>18</td>\n",
       "      <td>12</td>\n",
       "      <td>80000</td>\n",
       "    </tr>\n",
       "    <tr>\n",
       "      <th>1</th>\n",
       "      <td>14 abril</td>\n",
       "      <td>Cancha Gool de Oro</td>\n",
       "      <td>15-13</td>\n",
       "      <td>L. Machado</td>\n",
       "      <td>28</td>\n",
       "      <td>26</td>\n",
       "      <td>80000</td>\n",
       "    </tr>\n",
       "    <tr>\n",
       "      <th>2</th>\n",
       "      <td>27 abril</td>\n",
       "      <td>Cancha Gool de Oro</td>\n",
       "      <td>12 - 7</td>\n",
       "      <td>L. Machado</td>\n",
       "      <td>19</td>\n",
       "      <td>5</td>\n",
       "      <td>80000</td>\n",
       "    </tr>\n",
       "    <tr>\n",
       "      <th>3</th>\n",
       "      <td>4 mayo</td>\n",
       "      <td>Cancha UPB</td>\n",
       "      <td>13 - 15</td>\n",
       "      <td>J. Rozo</td>\n",
       "      <td>28</td>\n",
       "      <td>15</td>\n",
       "      <td>80000</td>\n",
       "    </tr>\n",
       "    <tr>\n",
       "      <th>4</th>\n",
       "      <td>11 mayo</td>\n",
       "      <td>Recrear XYZ</td>\n",
       "      <td>22 - 22</td>\n",
       "      <td>L. Machado</td>\n",
       "      <td>44</td>\n",
       "      <td>33</td>\n",
       "      <td>80000</td>\n",
       "    </tr>\n",
       "  </tbody>\n",
       "</table>\n",
       "</div>"
      ],
      "text/plain": [
       "       date               venue final_result         mvp  goals  assists  \\\n",
       "0  25 marzo  Cancha Gool de Oro         8-10  J. Ramirez     18       12   \n",
       "1  14 abril  Cancha Gool de Oro        15-13  L. Machado     28       26   \n",
       "2  27 abril  Cancha Gool de Oro       12 - 7  L. Machado     19        5   \n",
       "3    4 mayo          Cancha UPB      13 - 15     J. Rozo     28       15   \n",
       "4   11 mayo         Recrear XYZ      22 - 22  L. Machado     44       33   \n",
       "\n",
       "      in  \n",
       "0  80000  \n",
       "1  80000  \n",
       "2  80000  \n",
       "3  80000  \n",
       "4  80000  "
      ]
     },
     "execution_count": 278,
     "metadata": {},
     "output_type": "execute_result"
    }
   ],
   "source": [
    "# Set fixed data\n",
    "old1 = {'date': '25 marzo', 'venue': 'Cancha Gool de Oro', 'final_result': '8-10', 'mvp': 'J. Ramirez', 'goals': 18, 'assists': 12, 'in': 80000}\n",
    "old2 = {'date': '14 abril', 'venue': 'Cancha Gool de Oro', 'final_result': '15-13', 'mvp': 'L. Machado', 'goals': 28, 'assists': 26, 'in': 80000}\n",
    "\n",
    "df_matches.loc[0] = old1\n",
    "df_matches.loc[1] = old2\n",
    "df_matches.head(5)"
   ]
  },
  {
   "cell_type": "markdown",
   "metadata": {},
   "source": [
    "### Players Dataframe"
   ]
  },
  {
   "cell_type": "code",
   "execution_count": 279,
   "metadata": {},
   "outputs": [
    {
     "name": "stdout",
     "output_type": "stream",
     "text": [
      "Total goals: 1579\n",
      "Total assists: 893\n"
     ]
    }
   ],
   "source": [
    "total_goals = df_matches['goals'].sum()\n",
    "total_assists = df_matches['assists'].sum()\n",
    "print(f\"Total goals: {total_goals}\")\n",
    "print(f\"Total assists: {total_assists}\")"
   ]
  },
  {
   "cell_type": "code",
   "execution_count": 280,
   "metadata": {},
   "outputs": [],
   "source": [
    "# Count all times the players have been MVP\n",
    "mvp_counts = df_matches['mvp'].value_counts()\n",
    "df_players['mvp'] = df_matches['mvp'].map(mvp_counts).fillna(0).astype(int)"
   ]
  },
  {
   "cell_type": "code",
   "execution_count": 281,
   "metadata": {},
   "outputs": [],
   "source": [
    "# Generate values that sum the total goals and assits\n",
    "player_goal = np.random.uniform(0, total_goals, df_players.shape[0])\n",
    "player_assists = np.random.uniform(0, total_assists, df_players.shape[0])\n",
    "\n",
    "# Adjust the values to sum the total goals\n",
    "player_goal_adj = np.round(player_goal / player_goal.sum() * total_goals)\n",
    "player_assist_adj = np.round(player_assists / player_assists.sum() * total_assists)"
   ]
  },
  {
   "cell_type": "code",
   "execution_count": 282,
   "metadata": {},
   "outputs": [
    {
     "data": {
      "text/html": [
       "<div>\n",
       "<style scoped>\n",
       "    .dataframe tbody tr th:only-of-type {\n",
       "        vertical-align: middle;\n",
       "    }\n",
       "\n",
       "    .dataframe tbody tr th {\n",
       "        vertical-align: top;\n",
       "    }\n",
       "\n",
       "    .dataframe thead th {\n",
       "        text-align: right;\n",
       "    }\n",
       "</style>\n",
       "<table border=\"1\" class=\"dataframe\">\n",
       "  <thead>\n",
       "    <tr style=\"text-align: right;\">\n",
       "      <th></th>\n",
       "      <th>player</th>\n",
       "      <th>goals</th>\n",
       "      <th>assists</th>\n",
       "      <th>participation</th>\n",
       "      <th>mvp</th>\n",
       "      <th>points</th>\n",
       "      <th>efficiency</th>\n",
       "    </tr>\n",
       "  </thead>\n",
       "  <tbody>\n",
       "    <tr>\n",
       "      <th>0</th>\n",
       "      <td>L. Machado</td>\n",
       "      <td>35.0</td>\n",
       "      <td>120.0</td>\n",
       "      <td>155.0</td>\n",
       "      <td>5</td>\n",
       "      <td>205.0</td>\n",
       "      <td>4.46</td>\n",
       "    </tr>\n",
       "    <tr>\n",
       "      <th>1</th>\n",
       "      <td>J. Ramirez</td>\n",
       "      <td>288.0</td>\n",
       "      <td>22.0</td>\n",
       "      <td>310.0</td>\n",
       "      <td>7</td>\n",
       "      <td>619.0</td>\n",
       "      <td>13.46</td>\n",
       "    </tr>\n",
       "    <tr>\n",
       "      <th>2</th>\n",
       "      <td>W. Velandia</td>\n",
       "      <td>137.0</td>\n",
       "      <td>58.0</td>\n",
       "      <td>195.0</td>\n",
       "      <td>7</td>\n",
       "      <td>353.0</td>\n",
       "      <td>7.67</td>\n",
       "    </tr>\n",
       "    <tr>\n",
       "      <th>3</th>\n",
       "      <td>J. Rozo</td>\n",
       "      <td>212.0</td>\n",
       "      <td>128.0</td>\n",
       "      <td>340.0</td>\n",
       "      <td>8</td>\n",
       "      <td>576.0</td>\n",
       "      <td>12.52</td>\n",
       "    </tr>\n",
       "    <tr>\n",
       "      <th>4</th>\n",
       "      <td>D. Plata</td>\n",
       "      <td>41.0</td>\n",
       "      <td>84.0</td>\n",
       "      <td>125.0</td>\n",
       "      <td>7</td>\n",
       "      <td>187.0</td>\n",
       "      <td>4.07</td>\n",
       "    </tr>\n",
       "    <tr>\n",
       "      <th>5</th>\n",
       "      <td>A. Granados</td>\n",
       "      <td>139.0</td>\n",
       "      <td>33.0</td>\n",
       "      <td>172.0</td>\n",
       "      <td>4</td>\n",
       "      <td>323.0</td>\n",
       "      <td>7.02</td>\n",
       "    </tr>\n",
       "    <tr>\n",
       "      <th>6</th>\n",
       "      <td>R. López</td>\n",
       "      <td>76.0</td>\n",
       "      <td>137.0</td>\n",
       "      <td>213.0</td>\n",
       "      <td>8</td>\n",
       "      <td>313.0</td>\n",
       "      <td>6.80</td>\n",
       "    </tr>\n",
       "    <tr>\n",
       "      <th>7</th>\n",
       "      <td>D. Amado</td>\n",
       "      <td>230.0</td>\n",
       "      <td>106.0</td>\n",
       "      <td>336.0</td>\n",
       "      <td>3</td>\n",
       "      <td>575.0</td>\n",
       "      <td>12.50</td>\n",
       "    </tr>\n",
       "    <tr>\n",
       "      <th>8</th>\n",
       "      <td>G. Ojeda</td>\n",
       "      <td>202.0</td>\n",
       "      <td>94.0</td>\n",
       "      <td>296.0</td>\n",
       "      <td>4</td>\n",
       "      <td>510.0</td>\n",
       "      <td>11.09</td>\n",
       "    </tr>\n",
       "    <tr>\n",
       "      <th>9</th>\n",
       "      <td>D. Tarazona</td>\n",
       "      <td>29.0</td>\n",
       "      <td>62.0</td>\n",
       "      <td>91.0</td>\n",
       "      <td>2</td>\n",
       "      <td>126.0</td>\n",
       "      <td>2.74</td>\n",
       "    </tr>\n",
       "    <tr>\n",
       "      <th>10</th>\n",
       "      <td>C. Durán</td>\n",
       "      <td>190.0</td>\n",
       "      <td>50.0</td>\n",
       "      <td>240.0</td>\n",
       "      <td>1</td>\n",
       "      <td>433.0</td>\n",
       "      <td>9.41</td>\n",
       "    </tr>\n",
       "  </tbody>\n",
       "</table>\n",
       "</div>"
      ],
      "text/plain": [
       "         player  goals  assists  participation  mvp  points  efficiency\n",
       "0    L. Machado   35.0    120.0          155.0    5   205.0        4.46\n",
       "1    J. Ramirez  288.0     22.0          310.0    7   619.0       13.46\n",
       "2   W. Velandia  137.0     58.0          195.0    7   353.0        7.67\n",
       "3       J. Rozo  212.0    128.0          340.0    8   576.0       12.52\n",
       "4      D. Plata   41.0     84.0          125.0    7   187.0        4.07\n",
       "5   A. Granados  139.0     33.0          172.0    4   323.0        7.02\n",
       "6      R. López   76.0    137.0          213.0    8   313.0        6.80\n",
       "7      D. Amado  230.0    106.0          336.0    3   575.0       12.50\n",
       "8      G. Ojeda  202.0     94.0          296.0    4   510.0       11.09\n",
       "9   D. Tarazona   29.0     62.0           91.0    2   126.0        2.74\n",
       "10     C. Durán  190.0     50.0          240.0    1   433.0        9.41"
      ]
     },
     "execution_count": 282,
     "metadata": {},
     "output_type": "execute_result"
    }
   ],
   "source": [
    "# Assign the values to the players\n",
    "df_players['goals'] = player_goal_adj\n",
    "df_players['assists'] = player_assist_adj\n",
    "df_players['participation'] = df_players['goals'] + df_players['assists']\n",
    "df_players['points'] = df_players['goals'] * 2 + df_players['assists'] + df_players['mvp'] * 3\n",
    "df_players['efficiency'] = np.round(df_players['points'] / len(df_matches), 2)\n",
    "\n",
    "df_players"
   ]
  },
  {
   "cell_type": "code",
   "execution_count": 284,
   "metadata": {},
   "outputs": [],
   "source": [
    "df_matches.to_csv(\"final_match_table.csv\", index=False)\n",
    "df_players.to_csv(\"final_player_table.csv\", index=False)"
   ]
  }
 ],
 "metadata": {
  "kernelspec": {
   "display_name": "Python 3",
   "language": "python",
   "name": "python3"
  },
  "language_info": {
   "codemirror_mode": {
    "name": "ipython",
    "version": 3
   },
   "file_extension": ".py",
   "mimetype": "text/x-python",
   "name": "python",
   "nbconvert_exporter": "python",
   "pygments_lexer": "ipython3",
   "version": "3.11.9"
  }
 },
 "nbformat": 4,
 "nbformat_minor": 2
}
